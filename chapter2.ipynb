{
 "cells": [
  {
   "cell_type": "markdown",
   "metadata": {},
   "source": [
    "# Module\n",
    "## Model I/O\n",
    "### 언어 모델과의 Interface\n",
    "- Prompts\n",
    "- Language models\n",
    "- Output parsers\n",
    "\n",
    "## Retrieval\n",
    "### 외부 데이터로 접근하여 이를 모델에 어떻게 제공하는 것\n",
    "- document loaders\n",
    "- Transformers\n",
    "- Text embedding models\n",
    "- Vector sotres\n",
    "- retrievers\n",
    "\n",
    "## Chains\n",
    "\n",
    "## Agent\n",
    "### AI가 독립적으로 작동하도록 만들 수 있게 해주는 역할\n",
    "\n",
    "## Memory\n",
    "### 챗봇에 기억할 수 있도록 하는 역할\n",
    "\n",
    "## Callbacks\n",
    "### model이 기본적으로 무엇을 하고 있는지 중간에 확인하는 역할\n",
    "\n"
   ]
  },
  {
   "cell_type": "markdown",
   "metadata": {},
   "source": []
  }
 ],
 "metadata": {
  "language_info": {
   "name": "python"
  }
 },
 "nbformat": 4,
 "nbformat_minor": 2
}
